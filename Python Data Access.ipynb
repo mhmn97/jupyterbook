{
 "cells": [
  {
   "cell_type": "code",
   "execution_count": 1,
   "id": "caffa16f",
   "metadata": {},
   "outputs": [],
   "source": [
    "# import the datasets package\n",
    "from sklearn import datasets"
   ]
  },
  {
   "cell_type": "code",
   "execution_count": 2,
   "id": "a5b82bfa",
   "metadata": {},
   "outputs": [],
   "source": [
    "# pull in the iris data\n",
    "iris_dataset = datasets.load_iris()\n",
    "\n",
    "# grab the first two columns of data\n",
    "X = iris_dataset.data[:, :2]"
   ]
  },
  {
   "cell_type": "code",
   "execution_count": 3,
   "id": "ce0b10af",
   "metadata": {},
   "outputs": [],
   "source": [
    "# calculate some basic statistics\n",
    "x_count = len(X.flat)\n",
    "x_min = X[:, 0].min() - .5\n",
    "x_max = X[:, 0].max() + .5\n",
    "x_mean = X[:, 0].mean()"
   ]
  },
  {
   "cell_type": "code",
   "execution_count": 4,
   "id": "bb8343dd",
   "metadata": {},
   "outputs": [
    {
     "data": {
      "text/plain": [
       "(300, 3.8, 8.4, 5.843333333333334)"
      ]
     },
     "execution_count": 4,
     "metadata": {},
     "output_type": "execute_result"
    }
   ],
   "source": [
    "# display our results\n",
    "x_count, x_min, x_max, x_mean"
   ]
  }
 ],
 "metadata": {
  "kernelspec": {
   "display_name": "Python 3 (ipykernel)",
   "language": "python",
   "name": "python3"
  },
  "language_info": {
   "codemirror_mode": {
    "name": "ipython",
    "version": 3
   },
   "file_extension": ".py",
   "mimetype": "text/x-python",
   "name": "python",
   "nbconvert_exporter": "python",
   "pygments_lexer": "ipython3",
   "version": "3.10.4"
  }
 },
 "nbformat": 4,
 "nbformat_minor": 5
}
